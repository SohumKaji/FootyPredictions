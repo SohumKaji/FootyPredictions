{
 "cells": [
  {
   "cell_type": "markdown",
   "metadata": {
    "collapsed": true
   },
   "source": [
    "# Image Classification\n",
    "In this project, you'll classify images from the [CIFAR-10 dataset](https://www.cs.toronto.edu/~kriz/cifar.html).  The dataset consists of airplanes, dogs, cats, and other objects. You'll preprocess the images, then train a convolutional neural network on all the samples. The images need to be normalized and the labels need to be one-hot encoded.  You'll get to apply what you learned and build a convolutional, max pooling, dropout, and fully connected layers.  At the end, you'll get to see your neural network's predictions on the sample images.\n",
    "## Get the Data\n",
    "Run the following cell to download the [CIFAR-10 dataset for python](https://www.cs.toronto.edu/~kriz/cifar-10-python.tar.gz)."
   ]
  },
  {
   "cell_type": "code",
   "execution_count": 1,
   "metadata": {},
   "outputs": [
    {
     "name": "stdout",
     "output_type": "stream",
     "text": [
      "All files found!\n"
     ]
    }
   ],
   "source": [
    "\"\"\"\n",
    "DON'T MODIFY ANYTHING IN THIS CELL THAT IS BELOW THIS LINE\n",
    "\"\"\"\n",
    "from urllib.request import urlretrieve\n",
    "from os.path import isfile, isdir\n",
    "from tqdm import tqdm\n",
    "import problem_unittests as tests\n",
    "import tarfile\n",
    "\n",
    "cifar10_dataset_folder_path = 'cifar-10-batches-py'\n",
    "\n",
    "class DLProgress(tqdm):\n",
    "    last_block = 0\n",
    "\n",
    "    def hook(self, block_num=1, block_size=1, total_size=None):\n",
    "        self.total = total_size\n",
    "        self.update((block_num - self.last_block) * block_size)\n",
    "        self.last_block = block_num\n",
    "\n",
    "if not isfile('cifar-10-python.tar.gz'):\n",
    "    with DLProgress(unit='B', unit_scale=True, miniters=1, desc='CIFAR-10 Dataset') as pbar:\n",
    "        urlretrieve(\n",
    "            'https://www.cs.toronto.edu/~kriz/cifar-10-python.tar.gz',\n",
    "            'cifar-10-python.tar.gz',\n",
    "            pbar.hook)\n",
    "\n",
    "if not isdir(cifar10_dataset_folder_path):\n",
    "    with tarfile.open('cifar-10-python.tar.gz') as tar:\n",
    "        tar.extractall()\n",
    "        tar.close()\n",
    "\n",
    "\n",
    "tests.test_folder_path(cifar10_dataset_folder_path)"
   ]
  },
  {
   "cell_type": "markdown",
   "metadata": {},
   "source": [
    "## Explore the Data\n",
    "The dataset is broken into batches to prevent your machine from running out of memory.  The CIFAR-10 dataset consists of 5 batches, named `data_batch_1`, `data_batch_2`, etc.. Each batch contains the labels and images that are one of the following:\n",
    "* airplane\n",
    "* automobile\n",
    "* bird\n",
    "* cat\n",
    "* deer\n",
    "* dog\n",
    "* frog\n",
    "* horse\n",
    "* ship\n",
    "* truck\n",
    "\n",
    "Understanding a dataset is part of making predictions on the data.  Play around with the code cell below by changing the `batch_id` and `sample_id`. The `batch_id` is the id for a batch (1-5). The `sample_id` is the id for a image and label pair in the batch.\n",
    "\n",
    "Ask yourself \"What are all possible labels?\", \"What is the range of values for the image data?\", \"Are the labels in order or random?\".  Answers to questions like these will help you preprocess the data and end up with better predictions."
   ]
  },
  {
   "cell_type": "code",
   "execution_count": 2,
   "metadata": {},
   "outputs": [
    {
     "name": "stdout",
     "output_type": "stream",
     "text": [
      "\n",
      "Stats of batch 1:\n",
      "Samples: 10000\n",
      "Label Counts: {0: 1005, 1: 974, 2: 1032, 3: 1016, 4: 999, 5: 937, 6: 1030, 7: 1001, 8: 1025, 9: 981}\n",
      "First 20 Labels: [6, 9, 9, 4, 1, 1, 2, 7, 8, 3, 4, 7, 7, 2, 9, 9, 9, 3, 2, 6]\n",
      "\n",
      "Example of Image 5:\n",
      "Image - Min Value: 0 Max Value: 252\n",
      "Image - Shape: (32, 32, 3)\n",
      "Label - Label Id: 1 Name: automobile\n"
     ]
    },
    {
     "data": {
      "image/png": "[encoded data removed]",
      "text/plain": [
       "<matplotlib.figure.Figure at 0x229d5494630>"
      ]
     },
     "metadata": {
      "image/png": {
       "height": 250,
       "width": 253
      }
     },
     "output_type": "display_data"
    }
   ],
   "source": [
    "%matplotlib inline\n",
    "%config InlineBackend.figure_format = 'retina'\n",
    "\n",
    "import helper\n",
    "import numpy as np\n",
    "\n",
    "# Explore the dataset\n",
    "batch_id = 1\n",
    "sample_id = 5\n",
    "helper.display_stats(cifar10_dataset_folder_path, batch_id, sample_id)"
   ]
  },
  {
   "cell_type": "markdown",
   "metadata": {},
   "source": [
    "## Implement Preprocess Functions\n",
    "### Normalize\n",
    "In the cell below, implement the `normalize` function to take in image data, `x`, and return it as a normalized Numpy array. The values should be in the range of 0 to 1, inclusive.  The return object should be the same shape as `x`."
   ]
  },
  {
   "cell_type": "code",
   "execution_count": 3,
   "metadata": {},
   "outputs": [
    {
     "name": "stdout",
     "output_type": "stream",
     "text": [
      "Tests Passed\n"
     ]
    }
   ],
   "source": [
    "def normalize(x):\n",
    "    \"\"\"\n",
    "    Normalize a list of sample image data in the range of 0 to 1\n",
    "    : x: List of image data.  The image shape is (32, 32, 3)\n",
    "    : return: Numpy array of normalize data\n",
    "    \"\"\"\n",
    "    return x/255\n",
    "\n",
    "\n",
    "\"\"\"\n",
    "DON'T MODIFY ANYTHING IN THIS CELL THAT IS BELOW THIS LINE\n",
    "\"\"\"\n",
    "tests.test_normalize(normalize)"
   ]
  },
  {
   "cell_type": "markdown",
   "metadata": {},
   "source": [
    "### One-hot encode\n",
    "Just like the previous code cell, you'll be implementing a function for preprocessing.  This time, you'll implement the `one_hot_encode` function. The input, `x`, are a list of labels.  Implement the function to return the list of labels as One-Hot encoded Numpy array.  The possible values for labels are 0 to 9. The one-hot encoding function should return the same encoding for each value between each call to `one_hot_encode`.  Make sure to save the map of encodings outside the function.\n",
    "\n",
    "**Hint:**\n",
    "\n",
    "Look into LabelBinarizer in the preprocessing module of sklearn."
   ]
  },
  {
   "cell_type": "code",
   "execution_count": 4,
   "metadata": {},
   "outputs": [
    {
     "name": "stdout",
     "output_type": "stream",
     "text": [
      "Tests Passed\n"
     ]
    }
   ],
   "source": [
    "from sklearn.preprocessing import LabelBinarizer\n",
    "y = LabelBinarizer().fit(range(0,10))\n",
    "\n",
    "def one_hot_encode(x):\n",
    "    \"\"\"\n",
    "    One hot encode a list of sample labels. Return a one-hot encoded vector for each label.\n",
    "    : x: List of sample Labels\n",
    "    : return: Numpy array of one-hot encoded labels\n",
    "    \"\"\"\n",
    "    # TODO: Implement Function \n",
    "        \n",
    "    return y.transform(x)\n",
    "\n",
    "\n",
    "\"\"\"\n",
    "DON'T MODIFY ANYTHING IN THIS CELL THAT IS BELOW THIS LINE\n",
    "\"\"\"\n",
    "tests.test_one_hot_encode(one_hot_encode)"
   ]
  },
  {
   "cell_type": "markdown",
   "metadata": {},
   "source": [
    "### Randomize Data\n",
    "As you saw from exploring the data above, the order of the samples are randomized.  It doesn't hurt to randomize it again, but you don't need to for this dataset."
   ]
  },
  {
   "cell_type": "markdown",
   "metadata": {},
   "source": [
    "## Preprocess all the data and save it\n",
    "Running the code cell below will preprocess all the CIFAR-10 data and save it to file. The code below also uses 10% of the training data for validation."
   ]
  },
  {
   "cell_type": "code",
   "execution_count": 5,
   "metadata": {
    "collapsed": true
   },
   "outputs": [],
   "source": [
    "\"\"\"\n",
    "DON'T MODIFY ANYTHING IN THIS CELL\n",
    "\"\"\"\n",
    "# Preprocess Training, Validation, and Testing Data\n",
    "helper.preprocess_and_save_data(cifar10_dataset_folder_path, normalize, one_hot_encode)"
   ]
  },
  {
   "cell_type": "markdown",
   "metadata": {},
   "source": [
    "# Check Point\n",
    "This is your first checkpoint.  If you ever decide to come back to this notebook or have to restart the notebook, you can start from here.  The preprocessed data has been saved to disk."
   ]
  },
  {
   "cell_type": "code",
   "execution_count": 6,
   "metadata": {
    "collapsed": true
   },
   "outputs": [],
   "source": [
    "\"\"\"\n",
    "DON'T MODIFY ANYTHING IN THIS CELL\n",
    "\"\"\"\n",
    "import pickle\n",
    "import problem_unittests as tests\n",
    "import helper\n",
    "\n",
    "# Load the Preprocessed Validation data\n",
    "valid_features, valid_labels = pickle.load(open('preprocess_validation.p', mode='rb'))"
   ]
  },
  {
   "cell_type": "markdown",
   "metadata": {},
   "source": [
    "## Build the network\n",
    "For the neural network, you'll build each layer into a function.  Most of the code you've seen has been outside of functions. To test your code more thoroughly, we require that you put each layer in a function.  This allows us to give you better feedback and test for simple mistakes using our unittests before you submit your project.\n",
    "\n",
    ">**Note:** If you're finding it hard to dedicate enough time for this course each week, we've provided a small shortcut to this part of the project. In the next couple of problems, you'll have the option to use classes from the [TensorFlow Layers](https://www.tensorflow.org/api_docs/python/tf/layers) or [TensorFlow Layers (contrib)](https://www.tensorflow.org/api_guides/python/contrib.layers) packages to build each layer, except the layers you build in the \"Convolutional and Max Pooling Layer\" section.  TF Layers is similar to Keras's and TFLearn's abstraction to layers, so it's easy to pickup.\n",
    "\n",
    ">However, if you would like to get the most out of this course, try to solve all the problems _without_ using anything from the TF Layers packages. You **can** still use classes from other packages that happen to have the same name as ones you find in TF Layers! For example, instead of using the TF Layers version of the `conv2d` class, [tf.layers.conv2d](https://www.tensorflow.org/api_docs/python/tf/layers/conv2d), you would want to use the TF Neural Network version of `conv2d`, [tf.nn.conv2d](https://www.tensorflow.org/api_docs/python/tf/nn/conv2d). \n",
    "\n",
    "Let's begin!\n",
    "\n",
    "### Input\n",
    "The neural network needs to read the image data, one-hot encoded labels, and dropout keep probability. Implement the following functions\n",
    "* Implement `neural_net_image_input`\n",
    " * Return a [TF Placeholder](https://www.tensorflow.org/api_docs/python/tf/placeholder)\n",
    " * Set the shape using `image_shape` with batch size set to `None`.\n",
    " * Name the TensorFlow placeholder \"x\" using the TensorFlow `name` parameter in the [TF Placeholder](https://www.tensorflow.org/api_docs/python/tf/placeholder).\n",
    "* Implement `neural_net_label_input`\n",
    " * Return a [TF Placeholder](https://www.tensorflow.org/api_docs/python/tf/placeholder)\n",
    " * Set the shape using `n_classes` with batch size set to `None`.\n",
    " * Name the TensorFlow placeholder \"y\" using the TensorFlow `name` parameter in the [TF Placeholder](https://www.tensorflow.org/api_docs/python/tf/placeholder).\n",
    "* Implement `neural_net_keep_prob_input`\n",
    " * Return a [TF Placeholder](https://www.tensorflow.org/api_docs/python/tf/placeholder) for dropout keep probability.\n",
    " * Name the TensorFlow placeholder \"keep_prob\" using the TensorFlow `name` parameter in the [TF Placeholder](https://www.tensorflow.org/api_docs/python/tf/placeholder).\n",
    "\n",
    "These names will be used at the end of the project to load your saved model.\n",
    "\n",
    "Note: `None` for shapes in TensorFlow allow for a dynamic size."
   ]
  },
  {
   "cell_type": "code",
   "execution_count": 7,
   "metadata": {},
   "outputs": [
    {
     "name": "stdout",
     "output_type": "stream",
     "text": [
      "Image Input Tests Passed.\n",
      "Label Input Tests Passed.\n",
      "Keep Prob Tests Passed.\n"
     ]
    }
   ],
   "source": [
    "import tensorflow as tf\n",
    "\n",
    "def neural_net_image_input(image_shape):\n",
    "    \"\"\"\n",
    "    Return a Tensor for a batch of image input\n",
    "    : image_shape: Shape of the images\n",
    "    : return: Tensor for image input.\n",
    "    \"\"\"\n",
    "    # TODO: Implement Function\n",
    "    return tf.placeholder(tf.float32, [None] + list(image_shape), \"x\")\n",
    "\n",
    "\n",
    "def neural_net_label_input(n_classes):\n",
    "    \"\"\"\n",
    "    Return a Tensor for a batch of label input\n",
    "    : n_classes: Number of classes\n",
    "    : return: Tensor for label input.\n",
    "    \"\"\"\n",
    "    # TODO: Implement Function\n",
    "    return tf.placeholder(tf.float32, [None] + [n_classes], \"y\")\n",
    "\n",
    "\n",
    "def neural_net_keep_prob_input():\n",
    "    \"\"\"\n",
    "    Return a Tensor for keep probability\n",
    "    : return: Tensor for keep probability.\n",
    "    \"\"\"\n",
    "    # TODO: Implement Function\n",
    "    return tf.placeholder(tf.float32, None, \"keep_prob\")\n",
    "\n",
    "\n",
    "\"\"\"\n",
    "DON'T MODIFY ANYTHING IN THIS CELL THAT IS BELOW THIS LINE\n",
    "\"\"\"\n",
    "tf.reset_default_graph()\n",
    "tests.test_nn_image_inputs(neural_net_image_input)\n",
    "tests.test_nn_label_inputs(neural_net_label_input)\n",
    "tests.test_nn_keep_prob_inputs(neural_net_keep_prob_input)"
   ]
  },
  {
   "cell_type": "markdown",
   "metadata": {},
   "source": [
    "### Convolution and Max Pooling Layer\n",
    "Convolution layers have a lot of success with images. For this code cell, you should implement the function `conv2d_maxpool` to apply convolution then max pooling:\n",
    "* Create the weight and bias using `conv_ksize`, `conv_num_outputs` and the shape of `x_tensor`.\n",
    "* Apply a convolution to `x_tensor` using weight and `conv_strides`.\n",
    " * We recommend you use same padding, but you're welcome to use any padding.\n",
    "* Add bias\n",
    "* Add a nonlinear activation to the convolution.\n",
    "* Apply Max Pooling using `pool_ksize` and `pool_strides`.\n",
    " * We recommend you use same padding, but you're welcome to use any padding.\n",
    "\n",
    "**Note:** You **can't** use [TensorFlow Layers](https://www.tensorflow.org/api_docs/python/tf/layers) or [TensorFlow Layers (contrib)](https://www.tensorflow.org/api_guides/python/contrib.layers) for **this** layer, but you can still use TensorFlow's [Neural Network](https://www.tensorflow.org/api_docs/python/tf/nn) package. You may still use the shortcut option for all the **other** layers.\n",
    "\n",
    "** Hint: **\n",
    "\n",
    "When unpacking values as an argument in Python, look into the [unpacking](https://docs.python.org/3/tutorial/controlflow.html#unpacking-argument-lists) operator. "
   ]
  },
  {
   "cell_type": "code",
   "execution_count": 8,
   "metadata": {},
   "outputs": [
    {
     "name": "stdout",
     "output_type": "stream",
     "text": [
      "Tests Passed\n"
     ]
    }
   ],
   "source": [
    "def conv2d_maxpool(x_tensor, conv_num_outputs, conv_ksize, conv_strides, pool_ksize, pool_strides):\n",
    "    \"\"\"\n",
    "    Apply convolution then max pooling to x_tensor\n",
    "    :param x_tensor: TensorFlow Tensor\n",
    "    :param conv_num_outputs: Number of outputs for the convolutional layer\n",
    "    :param conv_ksize: kernal size 2-D Tuple for the convolutional layer\n",
    "    :param conv_strides: Stride 2-D Tuple for convolution\n",
    "    :param pool_ksize: kernal size 2-D Tuple for pool\n",
    "    :param pool_strides: Stride 2-D Tuple for pool\n",
    "    : return: A tensor that represents convolution and max pooling of x_tensor\n",
    "    \"\"\"\n",
    "    # TODO: Implement Function\n",
    "    \n",
    "    weight = tf.Variable(tf.truncated_normal(conv_ksize+(x_tensor.get_shape().as_list()[3],)+(conv_num_outputs,), 0, 0.1))\n",
    "    bias = tf.Variable(tf.zeros(conv_num_outputs)) \n",
    "    \n",
    "    layer = tf.nn.conv2d(x_tensor, weight, list((1,conv_strides[0], conv_strides[1], 1)), 'SAME')\n",
    "    layer = tf.nn.bias_add(layer, bias)\n",
    "    layer = tf.nn.relu(layer)\n",
    "    layer = tf.nn.max_pool(layer, [1, pool_ksize[0],pool_ksize[1], 1], [1, pool_strides[0], pool_strides[1], 1], 'SAME')\n",
    "    \n",
    "    \n",
    "    return layer\n",
    "\n",
    "\n",
    "\"\"\"\n",
    "DON'T MODIFY ANYTHING IN THIS CELL THAT IS BELOW THIS LINE\n",
    "\"\"\"\n",
    "tests.test_con_pool(conv2d_maxpool)"
   ]
  },
  {
   "cell_type": "markdown",
   "metadata": {},
   "source": [
    "### Flatten Layer\n",
    "Implement the `flatten` function to change the dimension of `x_tensor` from a 4-D tensor to a 2-D tensor.  The output should be the shape (*Batch Size*, *Flattened Image Size*). Shortcut option: you can use classes from the [TensorFlow Layers](https://www.tensorflow.org/api_docs/python/tf/layers) or [TensorFlow Layers (contrib)](https://www.tensorflow.org/api_guides/python/contrib.layers) packages for this layer. For more of a challenge, only use other TensorFlow packages."
   ]
  },
  {
   "cell_type": "code",
   "execution_count": 9,
   "metadata": {},
   "outputs": [
    {
     "name": "stdout",
     "output_type": "stream",
     "text": [
      "Tests Passed\n"
     ]
    }
   ],
   "source": [
    "def flatten(x_tensor):\n",
    "    \"\"\"\n",
    "    Flatten x_tensor to (Batch Size, Flattened Image Size)\n",
    "    : x_tensor: A tensor of size (Batch Size, ...), where ... are the image dimensions.\n",
    "    : return: A tensor of size (Batch Size, Flattened Image Size).\n",
    "    \"\"\"\n",
    "    # TODO: Implement Function\n",
    "    \n",
    "    dim_list = x_tensor.get_shape().as_list()  \n",
    "    return tf.reshape(x_tensor, [-1, dim_list[1]*dim_list[2]*dim_list[3]])\n",
    "\n",
    "\n",
    "\"\"\"\n",
    "DON'T MODIFY ANYTHING IN THIS CELL THAT IS BELOW THIS LINE\n",
    "\"\"\"\n",
    "tests.test_flatten(flatten)"
   ]
  },
  {
   "cell_type": "markdown",
   "metadata": {},
   "source": [
    "### Fully-Connected Layer\n",
    "Implement the `fully_conn` function to apply a fully connected layer to `x_tensor` with the shape (*Batch Size*, *num_outputs*). Shortcut option: you can use classes from the [TensorFlow Layers](https://www.tensorflow.org/api_docs/python/tf/layers) or [TensorFlow Layers (contrib)](https://www.tensorflow.org/api_guides/python/contrib.layers) packages for this layer. For more of a challenge, only use other TensorFlow packages."
   ]
  },
  {
   "cell_type": "code",
   "execution_count": 10,
   "metadata": {},
   "outputs": [
    {
     "name": "stdout",
     "output_type": "stream",
     "text": [
      "Tests Passed\n"
     ]
    }
   ],
   "source": [
    "def fully_conn(x_tensor, num_outputs):\n",
    "    \"\"\"\n",
    "    Apply a fully connected layer to x_tensor using weight and bias\n",
    "    : x_tensor: A 2-D tensor where the first dimension is batch size.\n",
    "    : num_outputs: The number of output that the new tensor should be.\n",
    "    : return: A 2-D tensor where the second dimension is num_outputs.\n",
    "    \"\"\"\n",
    "    # TODO: Implement Function \n",
    "    \n",
    "    weight = tf.Variable(tf.truncated_normal((x_tensor.get_shape().as_list()[1],)+(num_outputs,), 0, 0.1))\n",
    "    bias = tf.Variable(tf.zeros(num_outputs)) \n",
    "    \n",
    "    return tf.nn.relu(tf.add(tf.matmul(x_tensor,weight),bias))\n",
    "\n",
    "\n",
    "\"\"\"\n",
    "DON'T MODIFY ANYTHING IN THIS CELL THAT IS BELOW THIS LINE\n",
    "\"\"\"\n",
    "tests.test_fully_conn(fully_conn)"
   ]
  },
  {
   "cell_type": "markdown",
   "metadata": {},
   "source": [
    "### Output Layer\n",
    "Implement the `output` function to apply a fully connected layer to `x_tensor` with the shape (*Batch Size*, *num_outputs*). Shortcut option: you can use classes from the [TensorFlow Layers](https://www.tensorflow.org/api_docs/python/tf/layers) or [TensorFlow Layers (contrib)](https://www.tensorflow.org/api_guides/python/contrib.layers) packages for this layer. For more of a challenge, only use other TensorFlow packages.\n",
    "\n",
    "**Note:** Activation, softmax, or cross entropy should **not** be applied to this."
   ]
  },
  {
   "cell_type": "code",
   "execution_count": 11,
   "metadata": {},
   "outputs": [
    {
     "name": "stdout",
     "output_type": "stream",
     "text": [
      "Tests Passed\n"
     ]
    }
   ],
   "source": [
    "def output(x_tensor, num_outputs):\n",
    "    \"\"\"\n",
    "    Apply a output layer to x_tensor using weight and bias\n",
    "    : x_tensor: A 2-D tensor where the first dimension is batch size.\n",
    "    : num_outputs: The number of output that the new tensor should be.\n",
    "    : return: A 2-D tensor where the second dimension is num_outputs.\n",
    "    \"\"\"\n",
    "    # TODO: Implement Function\n",
    "      \n",
    "    weight = tf.Variable(tf.truncated_normal((x_tensor.get_shape().as_list()[1],)+(num_outputs,), 0, 0.01))\n",
    "    bias = tf.Variable(tf.zeros(num_outputs)) \n",
    "    \n",
    "    return tf.add(tf.matmul(x_tensor,weight),bias)\n",
    "\n",
    "\n",
    "\"\"\"\n",
    "DON'T MODIFY ANYTHING IN THIS CELL THAT IS BELOW THIS LINE\n",
    "\"\"\"\n",
    "tests.test_output(output)"
   ]
  },
  {
   "cell_type": "markdown",
   "metadata": {},
   "source": [
    "### Create Convolutional Model\n",
    "Implement the function `conv_net` to create a convolutional neural network model. The function takes in a batch of images, `x`, and outputs logits.  Use the layers you created above to create this model:\n",
    "\n",
    "* Apply 1, 2, or 3 Convolution and Max Pool layers\n",
    "* Apply a Flatten Layer\n",
    "* Apply 1, 2, or 3 Fully Connected Layers\n",
    "* Apply an Output Layer\n",
    "* Return the output\n",
    "* Apply [TensorFlow's Dropout](https://www.tensorflow.org/api_docs/python/tf/nn/dropout) to one or more layers in the model using `keep_prob`. "
   ]
  },
  {
   "cell_type": "code",
   "execution_count": 12,
   "metadata": {},
   "outputs": [
    {
     "name": "stdout",
     "output_type": "stream",
     "text": [
      "Neural Network Built!\n"
     ]
    }
   ],
   "source": [
    "def conv_net(x, keep_prob):\n",
    "    \"\"\"\n",
    "    Create a convolutional neural network model\n",
    "    : x: Placeholder tensor that holds image data.\n",
    "    : keep_prob: Placeholder tensor that hold dropout keep probability.\n",
    "    : return: Tensor that represents logits\n",
    "    \"\"\"\n",
    "    # TODO: Apply 1, 2, or 3 Convolution and Max Pool layers\n",
    "    #    Play around with different number of outputs, kernel size and stride\n",
    "    # Function Definition from Above:\n",
    "    #    conv2d_maxpool(x_tensor, conv_num_outputs, conv_ksize, conv_strides, pool_ksize, pool_strides)\n",
    "    cnn = conv2d_maxpool(x, conv_num_outputs = 16, conv_ksize = (2,2), conv_strides = (1,1), pool_ksize = (4, 4), pool_strides = (1,1))\n",
    "    cnn = conv2d_maxpool(x, conv_num_outputs = 8, conv_ksize = (2,2), conv_strides = (1,1), pool_ksize = (4, 4), pool_strides = (1,1))\n",
    "    \n",
    "    cnn = tf.nn.dropout(cnn, keep_prob)\n",
    "    \n",
    "    # TODO: Apply a Flatten Layer\n",
    "    # Function Definition from Above:\n",
    "    #   flatten(x_tensor)\n",
    "    model = flatten(cnn)\n",
    "\n",
    "    # TODO: Apply 1, 2, or 3 Fully Connected Layers\n",
    "    #    Play around with different number of outputs\n",
    "    # Function Definition from Above:\n",
    "    #   fully_conn(x_tensor, num_outputs)\n",
    "    cnn = fully_conn(model, 256)\n",
    "    \n",
    "    # TODO: Apply an Output Layer\n",
    "    #    Set this to the number of classes\n",
    "    # Function Definition from Above:\n",
    "    #   output(x_tensor, num_outputs)\n",
    "    cnn = output(cnn, 10)\n",
    "    \n",
    "    # TODO: return output\n",
    "    return cnn\n",
    "\n",
    "\n",
    "\"\"\"\n",
    "DON'T MODIFY ANYTHING IN THIS CELL THAT IS BELOW THIS LINE\n",
    "\"\"\"\n",
    "\n",
    "##############################\n",
    "## Build the Neural Network ##\n",
    "##############################\n",
    "\n",
    "# Remove previous weights, bias, inputs, etc..\n",
    "tf.reset_default_graph()\n",
    "\n",
    "# Inputs\n",
    "x = neural_net_image_input((32, 32, 3))\n",
    "y = neural_net_label_input(10)\n",
    "keep_prob = neural_net_keep_prob_input()\n",
    "\n",
    "# Model\n",
    "logits = conv_net(x, keep_prob)\n",
    "\n",
    "# Name logits Tensor, so that is can be loaded from disk after training\n",
    "logits = tf.identity(logits, name='logits')\n",
    "\n",
    "# Loss and Optimizer\n",
    "cost = tf.reduce_mean(tf.nn.softmax_cross_entropy_with_logits(logits=logits, labels=y))\n",
    "optimizer = tf.train.AdamOptimizer().minimize(cost)\n",
    "\n",
    "# Accuracy\n",
    "correct_pred = tf.equal(tf.argmax(logits, 1), tf.argmax(y, 1))\n",
    "accuracy = tf.reduce_mean(tf.cast(correct_pred, tf.float32), name='accuracy')\n",
    "\n",
    "tests.test_conv_net(conv_net)"
   ]
  },
  {
   "cell_type": "markdown",
   "metadata": {},
   "source": [
    "## Train the Neural Network\n",
    "### Single Optimization\n",
    "Implement the function `train_neural_network` to do a single optimization.  The optimization should use `optimizer` to optimize in `session` with a `feed_dict` of the following:\n",
    "* `x` for image input\n",
    "* `y` for labels\n",
    "* `keep_prob` for keep probability for dropout\n",
    "\n",
    "This function will be called for each batch, so `tf.global_variables_initializer()` has already been called.\n",
    "\n",
    "Note: Nothing needs to be returned. This function is only optimizing the neural network."
   ]
  },
  {
   "cell_type": "code",
   "execution_count": 13,
   "metadata": {},
   "outputs": [
    {
     "name": "stdout",
     "output_type": "stream",
     "text": [
      "Tests Passed\n"
     ]
    }
   ],
   "source": [
    "def train_neural_network(session, optimizer, keep_probability, feature_batch, label_batch):\n",
    "    \"\"\"\n",
    "    Optimize the session on a batch of images and labels\n",
    "    : session: Current TensorFlow session\n",
    "    : optimizer: TensorFlow optimizer function\n",
    "    : keep_probability: keep probability\n",
    "    : feature_batch: Batch of Numpy image data\n",
    "    : label_batch: Batch of Numpy label data\n",
    "    \"\"\"\n",
    "    # TODO: Implement Function\n",
    "    session.run(optimizer, feed_dict = {x: feature_batch, y: label_batch, keep_prob: keep_probability})\n",
    "\n",
    "\n",
    "\"\"\"\n",
    "DON'T MODIFY ANYTHING IN THIS CELL THAT IS BELOW THIS LINE\n",
    "\"\"\"\n",
    "tests.test_train_nn(train_neural_network)"
   ]
  },
  {
   "cell_type": "markdown",
   "metadata": {},
   "source": [
    "### Show Stats\n",
    "Implement the function `print_stats` to print loss and validation accuracy.  Use the global variables `valid_features` and `valid_labels` to calculate validation accuracy.  Use a keep probability of `1.0` to calculate the loss and validation accuracy."
   ]
  },
  {
   "cell_type": "code",
   "execution_count": 17,
   "metadata": {
    "collapsed": true
   },
   "outputs": [],
   "source": [
    "def print_stats(session, feature_batch, label_batch, cost, accuracy):\n",
    "    \"\"\"\n",
    "    Print information about loss and validation accuracy\n",
    "    : session: Current TensorFlow session\n",
    "    : feature_batch: Batch of Numpy image data\n",
    "    : label_batch: Batch of Numpy label data\n",
    "    : cost: TensorFlow cost function\n",
    "    : accuracy: TensorFlow accuracy function\n",
    "    \"\"\"\n",
    "    # TODO: Implement Function\n",
    "        \n",
    "    loss = session.run(cost, feed_dict ={x: feature_batch, y: label_batch, keep_prob: 1.0})\n",
    "    acc = session.run(accuracy, feed_dict ={x: valid_features, y: valid_labels, keep_prob: 1.0})\n",
    "    \n",
    "    print(\"Loss: {:.4f} | Accuracy: {:.4f}\".format(loss, acc))\n",
    "    \n",
    "    pass"
   ]
  },
  {
   "cell_type": "markdown",
   "metadata": {},
   "source": [
    "### Hyperparameters\n",
    "Tune the following parameters:\n",
    "* Set `epochs` to the number of iterations until the network stops learning or start overfitting\n",
    "* Set `batch_size` to the highest number that your machine has memory for.  Most people set them to common sizes of memory:\n",
    " * 64\n",
    " * 128\n",
    " * 256\n",
    " * ...\n",
    "* Set `keep_probability` to the probability of keeping a node using dropout"
   ]
  },
  {
   "cell_type": "code",
   "execution_count": 18,
   "metadata": {
    "collapsed": true
   },
   "outputs": [],
   "source": [
    "# TODO: Tune Parameters\n",
    "epochs = 50\n",
    "batch_size = 1024\n",
    "keep_probability = 0.25"
   ]
  },
  {
   "cell_type": "markdown",
   "metadata": {},
   "source": [
    "### Train on a Single CIFAR-10 Batch\n",
    "Instead of training the neural network on all the CIFAR-10 batches of data, let's use a single batch. This should save time while you iterate on the model to get a better accuracy.  Once the final validation accuracy is 50% or greater, run the model on all the data in the next section."
   ]
  },
  {
   "cell_type": "code",
   "execution_count": 19,
   "metadata": {},
   "outputs": [
    {
     "name": "stdout",
     "output_type": "stream",
     "text": [
      "Checking the Training on a Single Batch...\n",
      "Epoch  1, CIFAR-10 Batch 1:  Loss: 2.2560 | Accuracy: 0.2218\n",
      "Epoch  2, CIFAR-10 Batch 1:  Loss: 2.1347 | Accuracy: 0.2640\n",
      "Epoch  3, CIFAR-10 Batch 1:  Loss: 1.9935 | Accuracy: 0.2944\n",
      "Epoch  4, CIFAR-10 Batch 1:  Loss: 1.9058 | Accuracy: 0.3346\n",
      "Epoch  5, CIFAR-10 Batch 1:  Loss: 1.8151 | Accuracy: 0.3600\n",
      "Epoch  6, CIFAR-10 Batch 1:  Loss: 1.7502 | Accuracy: 0.3776\n",
      "Epoch  7, CIFAR-10 Batch 1:  Loss: 1.6793 | Accuracy: 0.3990\n",
      "Epoch  8, CIFAR-10 Batch 1:  Loss: 1.6370 | Accuracy: 0.4098\n",
      "Epoch  9, CIFAR-10 Batch 1:  Loss: 1.6051 | Accuracy: 0.4190\n",
      "Epoch 10, CIFAR-10 Batch 1:  Loss: 1.5648 | Accuracy: 0.4258\n",
      "Epoch 11, CIFAR-10 Batch 1:  Loss: 1.5325 | Accuracy: 0.4354\n",
      "Epoch 12, CIFAR-10 Batch 1:  Loss: 1.4994 | Accuracy: 0.4462\n",
      "Epoch 13, CIFAR-10 Batch 1:  Loss: 1.4729 | Accuracy: 0.4566\n",
      "Epoch 14, CIFAR-10 Batch 1:  Loss: 1.4436 | Accuracy: 0.4692\n",
      "Epoch 15, CIFAR-10 Batch 1:  Loss: 1.4168 | Accuracy: 0.4798\n",
      "Epoch 16, CIFAR-10 Batch 1:  Loss: 1.3936 | Accuracy: 0.4870\n",
      "Epoch 17, CIFAR-10 Batch 1:  Loss: 1.3686 | Accuracy: 0.4936\n",
      "Epoch 18, CIFAR-10 Batch 1:  Loss: 1.3492 | Accuracy: 0.4992\n",
      "Epoch 19, CIFAR-10 Batch 1:  Loss: 1.3313 | Accuracy: 0.4992\n",
      "Epoch 20, CIFAR-10 Batch 1:  Loss: 1.3067 | Accuracy: 0.5042\n",
      "Epoch 21, CIFAR-10 Batch 1:  Loss: 1.2872 | Accuracy: 0.5090\n",
      "Epoch 22, CIFAR-10 Batch 1:  Loss: 1.2724 | Accuracy: 0.5116\n",
      "Epoch 23, CIFAR-10 Batch 1:  Loss: 1.2552 | Accuracy: 0.5114\n",
      "Epoch 24, CIFAR-10 Batch 1:  Loss: 1.2378 | Accuracy: 0.5158\n",
      "Epoch 25, CIFAR-10 Batch 1:  Loss: 1.2219 | Accuracy: 0.5164\n",
      "Epoch 26, CIFAR-10 Batch 1:  Loss: 1.2133 | Accuracy: 0.5166\n",
      "Epoch 27, CIFAR-10 Batch 1:  Loss: 1.2028 | Accuracy: 0.5202\n",
      "Epoch 28, CIFAR-10 Batch 1:  Loss: 1.1858 | Accuracy: 0.5250\n",
      "Epoch 29, CIFAR-10 Batch 1:  Loss: 1.1759 | Accuracy: 0.5304\n",
      "Epoch 30, CIFAR-10 Batch 1:  Loss: 1.1600 | Accuracy: 0.5294\n",
      "Epoch 31, CIFAR-10 Batch 1:  Loss: 1.1518 | Accuracy: 0.5308\n",
      "Epoch 32, CIFAR-10 Batch 1:  Loss: 1.1480 | Accuracy: 0.5338\n",
      "Epoch 33, CIFAR-10 Batch 1:  Loss: 1.1361 | Accuracy: 0.5322\n",
      "Epoch 34, CIFAR-10 Batch 1:  Loss: 1.1271 | Accuracy: 0.5354\n",
      "Epoch 35, CIFAR-10 Batch 1:  Loss: 1.1219 | Accuracy: 0.5346\n",
      "Epoch 36, CIFAR-10 Batch 1:  Loss: 1.1245 | Accuracy: 0.5334\n",
      "Epoch 37, CIFAR-10 Batch 1:  Loss: 1.1116 | Accuracy: 0.5358\n",
      "Epoch 38, CIFAR-10 Batch 1:  Loss: 1.1095 | Accuracy: 0.5398\n",
      "Epoch 39, CIFAR-10 Batch 1:  Loss: 1.0941 | Accuracy: 0.5402\n",
      "Epoch 40, CIFAR-10 Batch 1:  Loss: 1.0789 | Accuracy: 0.5432\n",
      "Epoch 41, CIFAR-10 Batch 1:  Loss: 1.0695 | Accuracy: 0.5436\n",
      "Epoch 42, CIFAR-10 Batch 1:  Loss: 1.0589 | Accuracy: 0.5454\n",
      "Epoch 43, CIFAR-10 Batch 1:  Loss: 1.0482 | Accuracy: 0.5472\n",
      "Epoch 44, CIFAR-10 Batch 1:  Loss: 1.0415 | Accuracy: 0.5466\n",
      "Epoch 45, CIFAR-10 Batch 1:  Loss: 1.0307 | Accuracy: 0.5494\n",
      "Epoch 46, CIFAR-10 Batch 1:  Loss: 1.0226 | Accuracy: 0.5490\n",
      "Epoch 47, CIFAR-10 Batch 1:  Loss: 1.0137 | Accuracy: 0.5490\n",
      "Epoch 48, CIFAR-10 Batch 1:  Loss: 1.0075 | Accuracy: 0.5508\n",
      "Epoch 49, CIFAR-10 Batch 1:  Loss: 1.0014 | Accuracy: 0.5540\n",
      "Epoch 50, CIFAR-10 Batch 1:  Loss: 0.9860 | Accuracy: 0.5544\n"
     ]
    }
   ],
   "source": [
    "\"\"\"\n",
    "DON'T MODIFY ANYTHING IN THIS CELL\n",
    "\"\"\"\n",
    "print('Checking the Training on a Single Batch...')\n",
    "with tf.Session() as sess:\n",
    "    # Initializing the variables\n",
    "    sess.run(tf.global_variables_initializer())\n",
    "    \n",
    "    # Training cycle\n",
    "    for epoch in range(epochs):\n",
    "        batch_i = 1\n",
    "        for batch_features, batch_labels in helper.load_preprocess_training_batch(batch_i, batch_size):\n",
    "            train_neural_network(sess, optimizer, keep_probability, batch_features, batch_labels)\n",
    "        print('Epoch {:>2}, CIFAR-10 Batch {}:  '.format(epoch + 1, batch_i), end='')\n",
    "        print_stats(sess, batch_features, batch_labels, cost, accuracy)"
   ]
  },
  {
   "cell_type": "markdown",
   "metadata": {},
   "source": [
    "### Fully Train the Model\n",
    "Now that you got a good accuracy with a single CIFAR-10 batch, try it with all five batches."
   ]
  },
  {
   "cell_type": "code",
   "execution_count": 20,
   "metadata": {},
   "outputs": [
    {
     "name": "stdout",
     "output_type": "stream",
     "text": [
      "Training...\n",
      "Epoch  1, CIFAR-10 Batch 1:  Loss: 2.2298 | Accuracy: 0.2258\n",
      "Epoch  1, CIFAR-10 Batch 2:  Loss: 2.0812 | Accuracy: 0.2832\n",
      "Epoch  1, CIFAR-10 Batch 3:  Loss: 1.8678 | Accuracy: 0.3362\n",
      "Epoch  1, CIFAR-10 Batch 4:  Loss: 1.7621 | Accuracy: 0.3616\n",
      "Epoch  1, CIFAR-10 Batch 5:  Loss: 1.7665 | Accuracy: 0.3820\n",
      "Epoch  2, CIFAR-10 Batch 1:  Loss: 1.6913 | Accuracy: 0.4118\n",
      "Epoch  2, CIFAR-10 Batch 2:  Loss: 1.6247 | Accuracy: 0.4270\n",
      "Epoch  2, CIFAR-10 Batch 3:  Loss: 1.5419 | Accuracy: 0.4372\n",
      "Epoch  2, CIFAR-10 Batch 4:  Loss: 1.5060 | Accuracy: 0.4484\n",
      "Epoch  2, CIFAR-10 Batch 5:  Loss: 1.5399 | Accuracy: 0.4682\n",
      "Epoch  3, CIFAR-10 Batch 1:  Loss: 1.4790 | Accuracy: 0.4868\n",
      "Epoch  3, CIFAR-10 Batch 2:  Loss: 1.4520 | Accuracy: 0.4880\n",
      "Epoch  3, CIFAR-10 Batch 3:  Loss: 1.4114 | Accuracy: 0.4858\n",
      "Epoch  3, CIFAR-10 Batch 4:  Loss: 1.3846 | Accuracy: 0.5034\n",
      "Epoch  3, CIFAR-10 Batch 5:  Loss: 1.4330 | Accuracy: 0.5106\n",
      "Epoch  4, CIFAR-10 Batch 1:  Loss: 1.3806 | Accuracy: 0.5104\n",
      "Epoch  4, CIFAR-10 Batch 2:  Loss: 1.3690 | Accuracy: 0.5084\n",
      "Epoch  4, CIFAR-10 Batch 3:  Loss: 1.3427 | Accuracy: 0.5170\n",
      "Epoch  4, CIFAR-10 Batch 4:  Loss: 1.3221 | Accuracy: 0.5248\n",
      "Epoch  4, CIFAR-10 Batch 5:  Loss: 1.3602 | Accuracy: 0.5270\n",
      "Epoch  5, CIFAR-10 Batch 1:  Loss: 1.3252 | Accuracy: 0.5258\n",
      "Epoch  5, CIFAR-10 Batch 2:  Loss: 1.3176 | Accuracy: 0.5322\n",
      "Epoch  5, CIFAR-10 Batch 3:  Loss: 1.3014 | Accuracy: 0.5272\n",
      "Epoch  5, CIFAR-10 Batch 4:  Loss: 1.2750 | Accuracy: 0.5354\n",
      "Epoch  5, CIFAR-10 Batch 5:  Loss: 1.3092 | Accuracy: 0.5442\n",
      "Epoch  6, CIFAR-10 Batch 1:  Loss: 1.2934 | Accuracy: 0.5354\n",
      "Epoch  6, CIFAR-10 Batch 2:  Loss: 1.2862 | Accuracy: 0.5420\n",
      "Epoch  6, CIFAR-10 Batch 3:  Loss: 1.2504 | Accuracy: 0.5402\n",
      "Epoch  6, CIFAR-10 Batch 4:  Loss: 1.2533 | Accuracy: 0.5396\n",
      "Epoch  6, CIFAR-10 Batch 5:  Loss: 1.2725 | Accuracy: 0.5500\n",
      "Epoch  7, CIFAR-10 Batch 1:  Loss: 1.2595 | Accuracy: 0.5486\n",
      "Epoch  7, CIFAR-10 Batch 2:  Loss: 1.2513 | Accuracy: 0.5554\n",
      "Epoch  7, CIFAR-10 Batch 3:  Loss: 1.2160 | Accuracy: 0.5582\n",
      "Epoch  7, CIFAR-10 Batch 4:  Loss: 1.2191 | Accuracy: 0.5478\n",
      "Epoch  7, CIFAR-10 Batch 5:  Loss: 1.2461 | Accuracy: 0.5586\n",
      "Epoch  8, CIFAR-10 Batch 1:  Loss: 1.2388 | Accuracy: 0.5524\n",
      "Epoch  8, CIFAR-10 Batch 2:  Loss: 1.2282 | Accuracy: 0.5596\n",
      "Epoch  8, CIFAR-10 Batch 3:  Loss: 1.1966 | Accuracy: 0.5610\n",
      "Epoch  8, CIFAR-10 Batch 4:  Loss: 1.2068 | Accuracy: 0.5468\n",
      "Epoch  8, CIFAR-10 Batch 5:  Loss: 1.2213 | Accuracy: 0.5602\n",
      "Epoch  9, CIFAR-10 Batch 1:  Loss: 1.2172 | Accuracy: 0.5618\n",
      "Epoch  9, CIFAR-10 Batch 2:  Loss: 1.2045 | Accuracy: 0.5644\n",
      "Epoch  9, CIFAR-10 Batch 3:  Loss: 1.1771 | Accuracy: 0.5620\n",
      "Epoch  9, CIFAR-10 Batch 4:  Loss: 1.1805 | Accuracy: 0.5564\n",
      "Epoch  9, CIFAR-10 Batch 5:  Loss: 1.2024 | Accuracy: 0.5614\n",
      "Epoch 10, CIFAR-10 Batch 1:  Loss: 1.1977 | Accuracy: 0.5610\n",
      "Epoch 10, CIFAR-10 Batch 2:  Loss: 1.1840 | Accuracy: 0.5670\n",
      "Epoch 10, CIFAR-10 Batch 3:  Loss: 1.1547 | Accuracy: 0.5706\n",
      "Epoch 10, CIFAR-10 Batch 4:  Loss: 1.1629 | Accuracy: 0.5586\n",
      "Epoch 10, CIFAR-10 Batch 5:  Loss: 1.1826 | Accuracy: 0.5668\n",
      "Epoch 11, CIFAR-10 Batch 1:  Loss: 1.1758 | Accuracy: 0.5666\n",
      "Epoch 11, CIFAR-10 Batch 2:  Loss: 1.1608 | Accuracy: 0.5726\n",
      "Epoch 11, CIFAR-10 Batch 3:  Loss: 1.1325 | Accuracy: 0.5746\n",
      "Epoch 11, CIFAR-10 Batch 4:  Loss: 1.1398 | Accuracy: 0.5632\n",
      "Epoch 11, CIFAR-10 Batch 5:  Loss: 1.1643 | Accuracy: 0.5664\n",
      "Epoch 12, CIFAR-10 Batch 1:  Loss: 1.1613 | Accuracy: 0.5696\n",
      "Epoch 12, CIFAR-10 Batch 2:  Loss: 1.1485 | Accuracy: 0.5718\n",
      "Epoch 12, CIFAR-10 Batch 3:  Loss: 1.1234 | Accuracy: 0.5754\n",
      "Epoch 12, CIFAR-10 Batch 4:  Loss: 1.1167 | Accuracy: 0.5732\n",
      "Epoch 12, CIFAR-10 Batch 5:  Loss: 1.1501 | Accuracy: 0.5708\n",
      "Epoch 13, CIFAR-10 Batch 1:  Loss: 1.1431 | Accuracy: 0.5720\n",
      "Epoch 13, CIFAR-10 Batch 2:  Loss: 1.1345 | Accuracy: 0.5796\n",
      "Epoch 13, CIFAR-10 Batch 3:  Loss: 1.1095 | Accuracy: 0.5772\n",
      "Epoch 13, CIFAR-10 Batch 4:  Loss: 1.1072 | Accuracy: 0.5760\n",
      "Epoch 13, CIFAR-10 Batch 5:  Loss: 1.1205 | Accuracy: 0.5766\n",
      "Epoch 14, CIFAR-10 Batch 1:  Loss: 1.1193 | Accuracy: 0.5780\n",
      "Epoch 14, CIFAR-10 Batch 2:  Loss: 1.1126 | Accuracy: 0.5824\n",
      "Epoch 14, CIFAR-10 Batch 3:  Loss: 1.0862 | Accuracy: 0.5826\n",
      "Epoch 14, CIFAR-10 Batch 4:  Loss: 1.0881 | Accuracy: 0.5872\n",
      "Epoch 14, CIFAR-10 Batch 5:  Loss: 1.1057 | Accuracy: 0.5802\n",
      "Epoch 15, CIFAR-10 Batch 1:  Loss: 1.1042 | Accuracy: 0.5810\n",
      "Epoch 15, CIFAR-10 Batch 2:  Loss: 1.0978 | Accuracy: 0.5898\n",
      "Epoch 15, CIFAR-10 Batch 3:  Loss: 1.0703 | Accuracy: 0.5892\n",
      "Epoch 15, CIFAR-10 Batch 4:  Loss: 1.0655 | Accuracy: 0.5888\n",
      "Epoch 15, CIFAR-10 Batch 5:  Loss: 1.0861 | Accuracy: 0.5846\n",
      "Epoch 16, CIFAR-10 Batch 1:  Loss: 1.0903 | Accuracy: 0.5848\n",
      "Epoch 16, CIFAR-10 Batch 2:  Loss: 1.0852 | Accuracy: 0.5900\n",
      "Epoch 16, CIFAR-10 Batch 3:  Loss: 1.0607 | Accuracy: 0.5914\n",
      "Epoch 16, CIFAR-10 Batch 4:  Loss: 1.0582 | Accuracy: 0.5914\n",
      "Epoch 16, CIFAR-10 Batch 5:  Loss: 1.0709 | Accuracy: 0.5886\n",
      "Epoch 17, CIFAR-10 Batch 1:  Loss: 1.0726 | Accuracy: 0.5886\n",
      "Epoch 17, CIFAR-10 Batch 2:  Loss: 1.0699 | Accuracy: 0.5910\n",
      "Epoch 17, CIFAR-10 Batch 3:  Loss: 1.0446 | Accuracy: 0.5904\n",
      "Epoch 17, CIFAR-10 Batch 4:  Loss: 1.0421 | Accuracy: 0.5940\n",
      "Epoch 17, CIFAR-10 Batch 5:  Loss: 1.0487 | Accuracy: 0.5924\n",
      "Epoch 18, CIFAR-10 Batch 1:  Loss: 1.0575 | Accuracy: 0.5944\n",
      "Epoch 18, CIFAR-10 Batch 2:  Loss: 1.0543 | Accuracy: 0.5944\n",
      "Epoch 18, CIFAR-10 Batch 3:  Loss: 1.0319 | Accuracy: 0.5942\n",
      "Epoch 18, CIFAR-10 Batch 4:  Loss: 1.0271 | Accuracy: 0.6008\n",
      "Epoch 18, CIFAR-10 Batch 5:  Loss: 1.0329 | Accuracy: 0.5944\n",
      "Epoch 19, CIFAR-10 Batch 1:  Loss: 1.0478 | Accuracy: 0.5964\n",
      "Epoch 19, CIFAR-10 Batch 2:  Loss: 1.0402 | Accuracy: 0.5970\n",
      "Epoch 19, CIFAR-10 Batch 3:  Loss: 1.0184 | Accuracy: 0.6002\n",
      "Epoch 19, CIFAR-10 Batch 4:  Loss: 1.0140 | Accuracy: 0.6022\n",
      "Epoch 19, CIFAR-10 Batch 5:  Loss: 1.0114 | Accuracy: 0.6002\n",
      "Epoch 20, CIFAR-10 Batch 1:  Loss: 1.0333 | Accuracy: 0.6032\n",
      "Epoch 20, CIFAR-10 Batch 2:  Loss: 1.0303 | Accuracy: 0.6012\n",
      "Epoch 20, CIFAR-10 Batch 3:  Loss: 1.0035 | Accuracy: 0.6034\n",
      "Epoch 20, CIFAR-10 Batch 4:  Loss: 1.0002 | Accuracy: 0.6062\n",
      "Epoch 20, CIFAR-10 Batch 5:  Loss: 1.0032 | Accuracy: 0.6022\n",
      "Epoch 21, CIFAR-10 Batch 1:  Loss: 1.0222 | Accuracy: 0.6030\n",
      "Epoch 21, CIFAR-10 Batch 2:  Loss: 1.0154 | Accuracy: 0.6034\n",
      "Epoch 21, CIFAR-10 Batch 3:  Loss: 0.9932 | Accuracy: 0.6076\n",
      "Epoch 21, CIFAR-10 Batch 4:  Loss: 0.9888 | Accuracy: 0.6104\n",
      "Epoch 21, CIFAR-10 Batch 5:  Loss: 0.9858 | Accuracy: 0.6054\n",
      "Epoch 22, CIFAR-10 Batch 1:  Loss: 1.0096 | Accuracy: 0.6062\n",
      "Epoch 22, CIFAR-10 Batch 2:  Loss: 1.0061 | Accuracy: 0.6022\n",
      "Epoch 22, CIFAR-10 Batch 3:  Loss: 0.9749 | Accuracy: 0.6086\n",
      "Epoch 22, CIFAR-10 Batch 4:  Loss: 0.9712 | Accuracy: 0.6150\n",
      "Epoch 22, CIFAR-10 Batch 5:  Loss: 0.9721 | Accuracy: 0.6096\n",
      "Epoch 23, CIFAR-10 Batch 1:  Loss: 0.9928 | Accuracy: 0.6106\n",
      "Epoch 23, CIFAR-10 Batch 2:  Loss: 0.9908 | Accuracy: 0.6104\n",
      "Epoch 23, CIFAR-10 Batch 3:  Loss: 0.9590 | Accuracy: 0.6098\n",
      "Epoch 23, CIFAR-10 Batch 4:  Loss: 0.9623 | Accuracy: 0.6154\n",
      "Epoch 23, CIFAR-10 Batch 5:  Loss: 0.9539 | Accuracy: 0.6102\n",
      "Epoch 24, CIFAR-10 Batch 1:  Loss: 0.9828 | Accuracy: 0.6154\n",
      "Epoch 24, CIFAR-10 Batch 2:  Loss: 0.9795 | Accuracy: 0.6120\n",
      "Epoch 24, CIFAR-10 Batch 3:  Loss: 0.9499 | Accuracy: 0.6096\n",
      "Epoch 24, CIFAR-10 Batch 4:  Loss: 0.9453 | Accuracy: 0.6150\n",
      "Epoch 24, CIFAR-10 Batch 5:  Loss: 0.9396 | Accuracy: 0.6162\n",
      "Epoch 25, CIFAR-10 Batch 1:  Loss: 0.9730 | Accuracy: 0.6126\n",
      "Epoch 25, CIFAR-10 Batch 2:  Loss: 0.9658 | Accuracy: 0.6176\n",
      "Epoch 25, CIFAR-10 Batch 3:  Loss: 0.9376 | Accuracy: 0.6136\n",
      "Epoch 25, CIFAR-10 Batch 4:  Loss: 0.9348 | Accuracy: 0.6166\n",
      "Epoch 25, CIFAR-10 Batch 5:  Loss: 0.9250 | Accuracy: 0.6178\n",
      "Epoch 26, CIFAR-10 Batch 1:  Loss: 0.9527 | Accuracy: 0.6196\n",
      "Epoch 26, CIFAR-10 Batch 2:  Loss: 0.9549 | Accuracy: 0.6168\n",
      "Epoch 26, CIFAR-10 Batch 3:  Loss: 0.9236 | Accuracy: 0.6164\n",
      "Epoch 26, CIFAR-10 Batch 4:  Loss: 0.9226 | Accuracy: 0.6198\n",
      "Epoch 26, CIFAR-10 Batch 5:  Loss: 0.9117 | Accuracy: 0.6226\n",
      "Epoch 27, CIFAR-10 Batch 1:  Loss: 0.9379 | Accuracy: 0.6196\n",
      "Epoch 27, CIFAR-10 Batch 2:  Loss: 0.9483 | Accuracy: 0.6220\n",
      "Epoch 27, CIFAR-10 Batch 3:  Loss: 0.9184 | Accuracy: 0.6170\n",
      "Epoch 27, CIFAR-10 Batch 4:  Loss: 0.9096 | Accuracy: 0.6258\n"
     ]
    },
    {
     "name": "stdout",
     "output_type": "stream",
     "text": [
      "Epoch 27, CIFAR-10 Batch 5:  Loss: 0.9001 | Accuracy: 0.6200\n",
      "Epoch 28, CIFAR-10 Batch 1:  Loss: 0.9346 | Accuracy: 0.6216\n",
      "Epoch 28, CIFAR-10 Batch 2:  Loss: 0.9365 | Accuracy: 0.6200\n",
      "Epoch 28, CIFAR-10 Batch 3:  Loss: 0.9009 | Accuracy: 0.6178\n",
      "Epoch 28, CIFAR-10 Batch 4:  Loss: 0.8954 | Accuracy: 0.6278\n",
      "Epoch 28, CIFAR-10 Batch 5:  Loss: 0.8923 | Accuracy: 0.6244\n",
      "Epoch 29, CIFAR-10 Batch 1:  Loss: 0.9239 | Accuracy: 0.6260\n",
      "Epoch 29, CIFAR-10 Batch 2:  Loss: 0.9266 | Accuracy: 0.6256\n",
      "Epoch 29, CIFAR-10 Batch 3:  Loss: 0.8890 | Accuracy: 0.6194\n",
      "Epoch 29, CIFAR-10 Batch 4:  Loss: 0.8878 | Accuracy: 0.6290\n",
      "Epoch 29, CIFAR-10 Batch 5:  Loss: 0.8738 | Accuracy: 0.6254\n",
      "Epoch 30, CIFAR-10 Batch 1:  Loss: 0.9106 | Accuracy: 0.6264\n",
      "Epoch 30, CIFAR-10 Batch 2:  Loss: 0.9178 | Accuracy: 0.6184\n",
      "Epoch 30, CIFAR-10 Batch 3:  Loss: 0.8790 | Accuracy: 0.6186\n",
      "Epoch 30, CIFAR-10 Batch 4:  Loss: 0.8756 | Accuracy: 0.6306\n",
      "Epoch 30, CIFAR-10 Batch 5:  Loss: 0.8638 | Accuracy: 0.6314\n",
      "Epoch 31, CIFAR-10 Batch 1:  Loss: 0.9016 | Accuracy: 0.6306\n",
      "Epoch 31, CIFAR-10 Batch 2:  Loss: 0.9018 | Accuracy: 0.6314\n",
      "Epoch 31, CIFAR-10 Batch 3:  Loss: 0.8659 | Accuracy: 0.6238\n",
      "Epoch 31, CIFAR-10 Batch 4:  Loss: 0.8609 | Accuracy: 0.6318\n",
      "Epoch 31, CIFAR-10 Batch 5:  Loss: 0.8495 | Accuracy: 0.6290\n",
      "Epoch 32, CIFAR-10 Batch 1:  Loss: 0.8919 | Accuracy: 0.6324\n",
      "Epoch 32, CIFAR-10 Batch 2:  Loss: 0.8901 | Accuracy: 0.6298\n",
      "Epoch 32, CIFAR-10 Batch 3:  Loss: 0.8504 | Accuracy: 0.6262\n",
      "Epoch 32, CIFAR-10 Batch 4:  Loss: 0.8491 | Accuracy: 0.6358\n",
      "Epoch 32, CIFAR-10 Batch 5:  Loss: 0.8413 | Accuracy: 0.6334\n",
      "Epoch 33, CIFAR-10 Batch 1:  Loss: 0.8833 | Accuracy: 0.6304\n",
      "Epoch 33, CIFAR-10 Batch 2:  Loss: 0.8851 | Accuracy: 0.6320\n",
      "Epoch 33, CIFAR-10 Batch 3:  Loss: 0.8392 | Accuracy: 0.6286\n",
      "Epoch 33, CIFAR-10 Batch 4:  Loss: 0.8359 | Accuracy: 0.6382\n",
      "Epoch 33, CIFAR-10 Batch 5:  Loss: 0.8225 | Accuracy: 0.6360\n",
      "Epoch 34, CIFAR-10 Batch 1:  Loss: 0.8686 | Accuracy: 0.6358\n",
      "Epoch 34, CIFAR-10 Batch 2:  Loss: 0.8686 | Accuracy: 0.6344\n",
      "Epoch 34, CIFAR-10 Batch 3:  Loss: 0.8291 | Accuracy: 0.6266\n",
      "Epoch 34, CIFAR-10 Batch 4:  Loss: 0.8264 | Accuracy: 0.6406\n",
      "Epoch 34, CIFAR-10 Batch 5:  Loss: 0.8133 | Accuracy: 0.6364\n",
      "Epoch 35, CIFAR-10 Batch 1:  Loss: 0.8530 | Accuracy: 0.6370\n",
      "Epoch 35, CIFAR-10 Batch 2:  Loss: 0.8660 | Accuracy: 0.6380\n",
      "Epoch 35, CIFAR-10 Batch 3:  Loss: 0.8279 | Accuracy: 0.6288\n",
      "Epoch 35, CIFAR-10 Batch 4:  Loss: 0.8196 | Accuracy: 0.6416\n",
      "Epoch 35, CIFAR-10 Batch 5:  Loss: 0.8057 | Accuracy: 0.6362\n",
      "Epoch 36, CIFAR-10 Batch 1:  Loss: 0.8493 | Accuracy: 0.6388\n",
      "Epoch 36, CIFAR-10 Batch 2:  Loss: 0.8484 | Accuracy: 0.6378\n",
      "Epoch 36, CIFAR-10 Batch 3:  Loss: 0.8133 | Accuracy: 0.6336\n",
      "Epoch 36, CIFAR-10 Batch 4:  Loss: 0.8087 | Accuracy: 0.6426\n",
      "Epoch 36, CIFAR-10 Batch 5:  Loss: 0.7991 | Accuracy: 0.6374\n",
      "Epoch 37, CIFAR-10 Batch 1:  Loss: 0.8391 | Accuracy: 0.6384\n",
      "Epoch 37, CIFAR-10 Batch 2:  Loss: 0.8382 | Accuracy: 0.6410\n",
      "Epoch 37, CIFAR-10 Batch 3:  Loss: 0.7956 | Accuracy: 0.6342\n",
      "Epoch 37, CIFAR-10 Batch 4:  Loss: 0.7968 | Accuracy: 0.6448\n",
      "Epoch 37, CIFAR-10 Batch 5:  Loss: 0.7823 | Accuracy: 0.6396\n",
      "Epoch 38, CIFAR-10 Batch 1:  Loss: 0.8258 | Accuracy: 0.6418\n",
      "Epoch 38, CIFAR-10 Batch 2:  Loss: 0.8314 | Accuracy: 0.6412\n",
      "Epoch 38, CIFAR-10 Batch 3:  Loss: 0.7816 | Accuracy: 0.6342\n",
      "Epoch 38, CIFAR-10 Batch 4:  Loss: 0.7841 | Accuracy: 0.6418\n",
      "Epoch 38, CIFAR-10 Batch 5:  Loss: 0.7766 | Accuracy: 0.6400\n",
      "Epoch 39, CIFAR-10 Batch 1:  Loss: 0.8171 | Accuracy: 0.6416\n",
      "Epoch 39, CIFAR-10 Batch 2:  Loss: 0.8167 | Accuracy: 0.6416\n",
      "Epoch 39, CIFAR-10 Batch 3:  Loss: 0.7779 | Accuracy: 0.6320\n",
      "Epoch 39, CIFAR-10 Batch 4:  Loss: 0.7779 | Accuracy: 0.6466\n",
      "Epoch 39, CIFAR-10 Batch 5:  Loss: 0.7663 | Accuracy: 0.6430\n",
      "Epoch 40, CIFAR-10 Batch 1:  Loss: 0.8157 | Accuracy: 0.6434\n",
      "Epoch 40, CIFAR-10 Batch 2:  Loss: 0.8127 | Accuracy: 0.6404\n",
      "Epoch 40, CIFAR-10 Batch 3:  Loss: 0.7652 | Accuracy: 0.6372\n",
      "Epoch 40, CIFAR-10 Batch 4:  Loss: 0.7706 | Accuracy: 0.6442\n",
      "Epoch 40, CIFAR-10 Batch 5:  Loss: 0.7555 | Accuracy: 0.6456\n",
      "Epoch 41, CIFAR-10 Batch 1:  Loss: 0.7951 | Accuracy: 0.6426\n",
      "Epoch 41, CIFAR-10 Batch 2:  Loss: 0.8099 | Accuracy: 0.6468\n",
      "Epoch 41, CIFAR-10 Batch 3:  Loss: 0.7641 | Accuracy: 0.6364\n",
      "Epoch 41, CIFAR-10 Batch 4:  Loss: 0.7596 | Accuracy: 0.6474\n",
      "Epoch 41, CIFAR-10 Batch 5:  Loss: 0.7484 | Accuracy: 0.6458\n",
      "Epoch 42, CIFAR-10 Batch 1:  Loss: 0.7864 | Accuracy: 0.6444\n",
      "Epoch 42, CIFAR-10 Batch 2:  Loss: 0.7897 | Accuracy: 0.6440\n",
      "Epoch 42, CIFAR-10 Batch 3:  Loss: 0.7473 | Accuracy: 0.6436\n",
      "Epoch 42, CIFAR-10 Batch 4:  Loss: 0.7507 | Accuracy: 0.6460\n",
      "Epoch 42, CIFAR-10 Batch 5:  Loss: 0.7373 | Accuracy: 0.6442\n",
      "Epoch 43, CIFAR-10 Batch 1:  Loss: 0.7843 | Accuracy: 0.6426\n",
      "Epoch 43, CIFAR-10 Batch 2:  Loss: 0.7849 | Accuracy: 0.6442\n",
      "Epoch 43, CIFAR-10 Batch 3:  Loss: 0.7342 | Accuracy: 0.6416\n",
      "Epoch 43, CIFAR-10 Batch 4:  Loss: 0.7371 | Accuracy: 0.6500\n",
      "Epoch 43, CIFAR-10 Batch 5:  Loss: 0.7280 | Accuracy: 0.6484\n",
      "Epoch 44, CIFAR-10 Batch 1:  Loss: 0.7707 | Accuracy: 0.6452\n",
      "Epoch 44, CIFAR-10 Batch 2:  Loss: 0.7756 | Accuracy: 0.6502\n",
      "Epoch 44, CIFAR-10 Batch 3:  Loss: 0.7282 | Accuracy: 0.6478\n",
      "Epoch 44, CIFAR-10 Batch 4:  Loss: 0.7274 | Accuracy: 0.6530\n",
      "Epoch 44, CIFAR-10 Batch 5:  Loss: 0.7192 | Accuracy: 0.6442\n",
      "Epoch 45, CIFAR-10 Batch 1:  Loss: 0.7693 | Accuracy: 0.6464\n",
      "Epoch 45, CIFAR-10 Batch 2:  Loss: 0.7703 | Accuracy: 0.6478\n",
      "Epoch 45, CIFAR-10 Batch 3:  Loss: 0.7134 | Accuracy: 0.6416\n",
      "Epoch 45, CIFAR-10 Batch 4:  Loss: 0.7225 | Accuracy: 0.6514\n",
      "Epoch 45, CIFAR-10 Batch 5:  Loss: 0.7129 | Accuracy: 0.6462\n",
      "Epoch 46, CIFAR-10 Batch 1:  Loss: 0.7519 | Accuracy: 0.6486\n",
      "Epoch 46, CIFAR-10 Batch 2:  Loss: 0.7617 | Accuracy: 0.6494\n",
      "Epoch 46, CIFAR-10 Batch 3:  Loss: 0.7059 | Accuracy: 0.6450\n",
      "Epoch 46, CIFAR-10 Batch 4:  Loss: 0.7152 | Accuracy: 0.6516\n",
      "Epoch 46, CIFAR-10 Batch 5:  Loss: 0.7047 | Accuracy: 0.6480\n",
      "Epoch 47, CIFAR-10 Batch 1:  Loss: 0.7461 | Accuracy: 0.6472\n",
      "Epoch 47, CIFAR-10 Batch 2:  Loss: 0.7443 | Accuracy: 0.6478\n",
      "Epoch 47, CIFAR-10 Batch 3:  Loss: 0.7004 | Accuracy: 0.6442\n",
      "Epoch 47, CIFAR-10 Batch 4:  Loss: 0.7017 | Accuracy: 0.6510\n",
      "Epoch 47, CIFAR-10 Batch 5:  Loss: 0.6905 | Accuracy: 0.6470\n",
      "Epoch 48, CIFAR-10 Batch 1:  Loss: 0.7364 | Accuracy: 0.6462\n",
      "Epoch 48, CIFAR-10 Batch 2:  Loss: 0.7381 | Accuracy: 0.6504\n",
      "Epoch 48, CIFAR-10 Batch 3:  Loss: 0.6946 | Accuracy: 0.6450\n",
      "Epoch 48, CIFAR-10 Batch 4:  Loss: 0.6931 | Accuracy: 0.6524\n",
      "Epoch 48, CIFAR-10 Batch 5:  Loss: 0.6828 | Accuracy: 0.6462\n",
      "Epoch 49, CIFAR-10 Batch 1:  Loss: 0.7265 | Accuracy: 0.6482\n",
      "Epoch 49, CIFAR-10 Batch 2:  Loss: 0.7273 | Accuracy: 0.6484\n",
      "Epoch 49, CIFAR-10 Batch 3:  Loss: 0.6787 | Accuracy: 0.6436\n",
      "Epoch 49, CIFAR-10 Batch 4:  Loss: 0.6914 | Accuracy: 0.6532\n",
      "Epoch 49, CIFAR-10 Batch 5:  Loss: 0.6709 | Accuracy: 0.6446\n",
      "Epoch 50, CIFAR-10 Batch 1:  Loss: 0.7164 | Accuracy: 0.6486\n",
      "Epoch 50, CIFAR-10 Batch 2:  Loss: 0.7292 | Accuracy: 0.6510\n",
      "Epoch 50, CIFAR-10 Batch 3:  Loss: 0.6720 | Accuracy: 0.6476\n",
      "Epoch 50, CIFAR-10 Batch 4:  Loss: 0.6847 | Accuracy: 0.6520\n",
      "Epoch 50, CIFAR-10 Batch 5:  Loss: 0.6724 | Accuracy: 0.6454\n"
     ]
    }
   ],
   "source": [
    "\"\"\"\n",
    "DON'T MODIFY ANYTHING IN THIS CELL\n",
    "\"\"\"\n",
    "save_model_path = './image_classification'\n",
    "\n",
    "print('Training...')\n",
    "with tf.Session() as sess:\n",
    "    # Initializing the variables\n",
    "    sess.run(tf.global_variables_initializer())\n",
    "    \n",
    "    # Training cycle\n",
    "    for epoch in range(epochs):\n",
    "        # Loop over all batches\n",
    "        n_batches = 5\n",
    "        for batch_i in range(1, n_batches + 1):\n",
    "            for batch_features, batch_labels in helper.load_preprocess_training_batch(batch_i, batch_size):\n",
    "                train_neural_network(sess, optimizer, keep_probability, batch_features, batch_labels)\n",
    "            print('Epoch {:>2}, CIFAR-10 Batch {}:  '.format(epoch + 1, batch_i), end='')\n",
    "            print_stats(sess, batch_features, batch_labels, cost, accuracy)\n",
    "            \n",
    "    # Save Model\n",
    "    saver = tf.train.Saver()\n",
    "    save_path = saver.save(sess, save_model_path)"
   ]
  },
  {
   "cell_type": "markdown",
   "metadata": {},
   "source": [
    "# Checkpoint\n",
    "The model has been saved to disk.\n",
    "## Test Model\n",
    "Test your model against the test dataset.  This will be your final accuracy. You should have an accuracy greater than 50%. If you don't, keep tweaking the model architecture and parameters."
   ]
  },
  {
   "cell_type": "code",
   "execution_count": 21,
   "metadata": {},
   "outputs": [
    {
     "name": "stdout",
     "output_type": "stream",
     "text": [
      "INFO:tensorflow:Restoring parameters from ./image_classification\n",
      "Testing Accuracy: 0.6416015625\n",
      "\n"
     ]
    },
    {
     "data": {
      "image/png": "[encoded data removed]",
      "text/plain": [
       "<matplotlib.figure.Figure at 0x229857ea320>"
      ]
     },
     "metadata": {
      "image/png": {
       "height": 319,
       "width": 355
      }
     },
     "output_type": "display_data"
    }
   ],
   "source": [
    "\"\"\"\n",
    "DON'T MODIFY ANYTHING IN THIS CELL\n",
    "\"\"\"\n",
    "%matplotlib inline\n",
    "%config InlineBackend.figure_format = 'retina'\n",
    "\n",
    "import tensorflow as tf\n",
    "import pickle\n",
    "import helper\n",
    "import random\n",
    "\n",
    "# Set batch size if not already set\n",
    "try:\n",
    "    if batch_size:\n",
    "        pass\n",
    "except NameError:\n",
    "    batch_size = 64\n",
    "\n",
    "save_model_path = './image_classification'\n",
    "n_samples = 4\n",
    "top_n_predictions = 3\n",
    "\n",
    "def test_model():\n",
    "    \"\"\"\n",
    "    Test the saved model against the test dataset\n",
    "    \"\"\"\n",
    "\n",
    "    test_features, test_labels = pickle.load(open('preprocess_training.p', mode='rb'))\n",
    "    loaded_graph = tf.Graph()\n",
    "\n",
    "    with tf.Session(graph=loaded_graph) as sess:\n",
    "        # Load model\n",
    "        loader = tf.train.import_meta_graph(save_model_path + '.meta')\n",
    "        loader.restore(sess, save_model_path)\n",
    "\n",
    "        # Get Tensors from loaded model\n",
    "        loaded_x = loaded_graph.get_tensor_by_name('x:0')\n",
    "        loaded_y = loaded_graph.get_tensor_by_name('y:0')\n",
    "        loaded_keep_prob = loaded_graph.get_tensor_by_name('keep_prob:0')\n",
    "        loaded_logits = loaded_graph.get_tensor_by_name('logits:0')\n",
    "        loaded_acc = loaded_graph.get_tensor_by_name('accuracy:0')\n",
    "        \n",
    "        # Get accuracy in batches for memory limitations\n",
    "        test_batch_acc_total = 0\n",
    "        test_batch_count = 0\n",
    "        \n",
    "        for train_feature_batch, train_label_batch in helper.batch_features_labels(test_features, test_labels, batch_size):\n",
    "            test_batch_acc_total += sess.run(\n",
    "                loaded_acc,\n",
    "                feed_dict={loaded_x: train_feature_batch, loaded_y: train_label_batch, loaded_keep_prob: 1.0})\n",
    "            test_batch_count += 1\n",
    "\n",
    "        print('Testing Accuracy: {}\\n'.format(test_batch_acc_total/test_batch_count))\n",
    "\n",
    "        # Print Random Samples\n",
    "        random_test_features, random_test_labels = tuple(zip(*random.sample(list(zip(test_features, test_labels)), n_samples)))\n",
    "        random_test_predictions = sess.run(\n",
    "            tf.nn.top_k(tf.nn.softmax(loaded_logits), top_n_predictions),\n",
    "            feed_dict={loaded_x: random_test_features, loaded_y: random_test_labels, loaded_keep_prob: 1.0})\n",
    "        helper.display_image_predictions(random_test_features, random_test_labels, random_test_predictions)\n",
    "\n",
    "\n",
    "test_model()"
   ]
  },
  {
   "cell_type": "markdown",
   "metadata": {},
   "source": [
    "## Why 50-80% Accuracy?\n",
    "You might be wondering why you can't get an accuracy any higher. First things first, 50% isn't bad for a simple CNN.  Pure guessing would get you 10% accuracy. That's because there are many more techniques that can be applied to your model and we recemmond that once you are done with this project, you explore!\n",
    "\n",
    "## Submitting This Project\n",
    "When submitting this project, make sure to run all the cells before saving the notebook.  Save the notebook file as \"image_classification.ipynb\" and save it as a HTML file under \"File\" -> \"Download as\".  Include the \"helper.py\" and \"problem_unittests.py\" files in your submission."
   ]
  }
 ],
 "metadata": {
  "kernelspec": {
   "display_name": "Python 3",
   "language": "python",
   "name": "python3"
  },
  "language_info": {
   "codemirror_mode": {
    "name": "ipython",
    "version": 3
   },
   "file_extension": ".py",
   "mimetype": "text/x-python",
   "name": "python",
   "nbconvert_exporter": "python",
   "pygments_lexer": "ipython3",
   "version": "3.6.1"
  }
 },
 "nbformat": 4,
 "nbformat_minor": 1
}
