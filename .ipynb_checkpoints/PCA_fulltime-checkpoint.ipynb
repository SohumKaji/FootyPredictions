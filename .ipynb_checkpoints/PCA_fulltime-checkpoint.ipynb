{
 "cells": [
  {
   "cell_type": "markdown",
   "metadata": {},
   "source": [
    "# Perform PCA on Features"
   ]
  },
  {
   "cell_type": "markdown",
   "metadata": {},
   "source": [
    "### Import Statements and Read in Data"
   ]
  },
  {
   "cell_type": "code",
   "execution_count": 1,
   "metadata": {
    "collapsed": true
   },
   "outputs": [],
   "source": [
    "import pickle\n",
    "import numpy as np\n",
    "import pandas as pd\n",
    "import matplotlib.pyplot as plt\n",
    "\n",
    "from sklearn import decomposition\n",
    "from sklearn.preprocessing import scale\n",
    "\n",
    "with open('fixed_match_dates_and_scores.pkl', 'rb') as f:\n",
    "    results, match_dates = pickle.load(f)\n",
    "    \n",
    "#Full match Data\n",
    "home_df = pd.read_csv('sgd_home.csv', index_col=0)\n",
    "away_df = pd.read_csv('sgd_away.csv', index_col=0)"
   ]
  },
  {
   "cell_type": "markdown",
   "metadata": {},
   "source": [
    "### Read in and Format Data"
   ]
  },
  {
   "cell_type": "code",
   "execution_count": 2,
   "metadata": {},
   "outputs": [
    {
     "name": "stdout",
     "output_type": "stream",
     "text": [
      "10261\n"
     ]
    }
   ],
   "source": [
    "X = []\n",
    "y = []\n",
    "\n",
    "#For each date where a game was played\n",
    "for date in match_dates:\n",
    "\n",
    "    #For each match played that day\n",
    "    for result in results[date]:\n",
    "        \n",
    "        #Try to get the specific team from the specific match's data\n",
    "        try:\n",
    "            data = home_df.loc[result[0]+'_'+str(date), :]\n",
    "            #If the data is not complete, ignore it\n",
    "            if(len(data) == 16):\n",
    "                X.append(data)\n",
    "                y.append(float(result[3][0]))\n",
    "            #The above was home data, below is away data\n",
    "            data = away_df.loc[result[1]+'_'+str(date), :]\n",
    "            if(len(data) == 16):\n",
    "                X.append(data)\n",
    "                y.append(float(result[3][1]))\n",
    "        except:\n",
    "            pass\n",
    "        \n",
    "#Sanity Check        \n",
    "print(len(X))\n",
    "\n",
    "#Convert to numpy array and remove missing elements\n",
    "X = np.asarray(X, dtype='float64')\n",
    "X = np.nan_to_num(X)"
   ]
  },
  {
   "cell_type": "markdown",
   "metadata": {},
   "source": [
    "### Perform PCA"
   ]
  },
  {
   "cell_type": "code",
   "execution_count": 3,
   "metadata": {},
   "outputs": [
    {
     "data": {
      "text/plain": [
       "array([-0.14988575,  1.56829282, -0.58606197, -5.79163445, -3.07976814,\n",
       "        0.00716932,  1.72744005, -0.23140126, -0.41208376, -0.41365604,\n",
       "       -0.25439233,  0.2707777 ,  0.1832572 , -0.37830749, -0.14829312,\n",
       "       -0.10283501])"
      ]
     },
     "execution_count": 3,
     "metadata": {},
     "output_type": "execute_result"
    }
   ],
   "source": [
    "#Initialize PCA for 16 components\n",
    "pca = decomposition.PCA(n_components=16)\n",
    "\n",
    "#Scale features\n",
    "X = scale(X)\n",
    "\n",
    "#Fit & Transform\n",
    "pca.fit(X)\n",
    "pca.transform(X)[0]"
   ]
  },
  {
   "cell_type": "code",
   "execution_count": 5,
   "metadata": {},
   "outputs": [
    {
     "data": {
      "text/plain": [
       "array([ 36.77769364,  14.88289677,   8.43101935,   6.91774397,\n",
       "         6.17721221,   5.13456853,   4.51333726,   3.76252952,\n",
       "         3.36713359,   3.16726841,   2.78278095,   2.51079364,\n",
       "         0.67849799,   0.46979753,   0.28920468,   0.13752196])"
      ]
     },
     "execution_count": 5,
     "metadata": {},
     "output_type": "execute_result"
    }
   ],
   "source": [
    "#Explained variance percentages\n",
    "pca.explained_variance_ratio_*100 "
   ]
  },
  {
   "cell_type": "markdown",
   "metadata": {},
   "source": [
    "### Graph Explained Variance Ratios"
   ]
  },
  {
   "cell_type": "code",
   "execution_count": 6,
   "metadata": {},
   "outputs": [
    {
     "data": {
      "image/png": "[encoded data removed]",
      "text/plain": [
       "<matplotlib.figure.Figure at 0x1a998f0bd68>"
      ]
     },
     "metadata": {},
     "output_type": "display_data"
    }
   ],
   "source": [
    "#More than enough colors!\n",
    "COLORS = 'bgrcmykbgrcmykbgrcmyk'\n",
    "\n",
    "#For every label add a bar\n",
    "for i, label in enumerate(['possession', 'fouls', 'shots', 'shotsongoal','offtarget','cornerkicks','yellowcards','headtheball','headsuccess','saves','blocked','tackles','dribbles','throwins','pass','passsuccess']):\n",
    "        plt.bar(i, pca.explained_variance_ratio_[i], label = label, color = COLORS[i])\n",
    "\n",
    "#Graph bells and whistles\n",
    "plt.title(\"PCA over all Features\")\n",
    "plt.xlabel('Features')\n",
    "plt.xticks()\n",
    "plt.ylabel('Explained Variance Ratio')\n",
    "plt.ylim((0, .4))\n",
    "plt.legend(bbox_to_anchor=(1.0, 1.05))\n",
    "\n",
    "#Display!\n",
    "plt.show()"
   ]
  }
 ],
 "metadata": {
  "kernelspec": {
   "display_name": "Python 3",
   "language": "python",
   "name": "python3"
  },
  "language_info": {
   "codemirror_mode": {
    "name": "ipython",
    "version": 3
   },
   "file_extension": ".py",
   "mimetype": "text/x-python",
   "name": "python",
   "nbconvert_exporter": "python",
   "pygments_lexer": "ipython3",
   "version": "3.6.1"
  }
 },
 "nbformat": 4,
 "nbformat_minor": 2
}
