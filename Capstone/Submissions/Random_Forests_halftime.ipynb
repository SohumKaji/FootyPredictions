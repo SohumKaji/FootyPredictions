{
 "cells": [
  {
   "cell_type": "markdown",
   "metadata": {},
   "source": [
    "# Create a Random Forest to determine the Feature Importance"
   ]
  },
  {
   "cell_type": "markdown",
   "metadata": {},
   "source": [
    "### Import Statements and Read in Data"
   ]
  },
  {
   "cell_type": "code",
   "execution_count": 2,
   "metadata": {},
   "outputs": [],
   "source": [
    "import pickle\n",
    "import numpy as np\n",
    "import pandas as pd\n",
    "import matplotlib.pyplot as plt\n",
    "\n",
    "from sklearn.ensemble import RandomForestClassifier\n",
    "from sklearn.preprocessing import scale\n",
    "\n",
    "with open('final_fixed_match_dates_and_scores.pkl', 'rb') as f:\n",
    "    results, match_dates = pickle.load(f)\n",
    "    \n",
    "#Full match Data\n",
    "home_df = pd.read_csv('NN/NN_home.csv', index_col=0)\n",
    "away_df = pd.read_csv('NN/NN_away.csv', index_col=0)"
   ]
  },
  {
   "cell_type": "markdown",
   "metadata": {},
   "source": [
    "### Read in and Format Data"
   ]
  },
  {
   "cell_type": "code",
   "execution_count": 7,
   "metadata": {},
   "outputs": [
    {
     "name": "stdout",
     "output_type": "stream",
     "text": [
      "10775 10775\n"
     ]
    }
   ],
   "source": [
    "X = []\n",
    "y = []\n",
    "\n",
    "#For each date where a game was played\n",
    "for date in match_dates:\n",
    "\n",
    "    #For each match played that day\n",
    "    for result in results[date]:\n",
    "        \n",
    "        #Try to get the specific team from the specific match's data\n",
    "        try:\n",
    "            data = home_df.loc[result[0]+'_'+str(date), :]\n",
    "            #Remove 'N' and 'n' which stand for NA but were given as strings from the data source\n",
    "            data = [0 if elem =='N' or elem == 'n' else elem for elem in data]\n",
    "            #If the data is not complete, ignore it\n",
    "            if(len(data) == 10):\n",
    "                X.append(data)\n",
    "                y.append(float(result[3][0]))\n",
    "            #The above was home data, below is away data\n",
    "            data = away_df.loc[result[1]+'_'+str(date), :]\n",
    "            #Remove 'N' and 'n' which stand for NA but were given as strings from the data source\n",
    "            data = [0 if elem =='N' or elem == 'n' else elem for elem in data]\n",
    "            if(len(data) == 10):\n",
    "                X.append(data)\n",
    "                y.append(float(result[3][1]))\n",
    "        except:\n",
    "            pass\n",
    "        \n",
    "\n",
    "#Convert to numpy array and remove missing elements\n",
    "X = np.asarray(X, dtype='float64')\n",
    "X = np.nan_to_num(X)\n",
    "\n",
    "#Sanity Check\n",
    "print(len(X), len(y))"
   ]
  },
  {
   "cell_type": "markdown",
   "metadata": {},
   "source": [
    "### Perform Random Forests"
   ]
  },
  {
   "cell_type": "code",
   "execution_count": 24,
   "metadata": {},
   "outputs": [
    {
     "name": "stdout",
     "output_type": "stream",
     "text": [
      "0.4056612529\n"
     ]
    }
   ],
   "source": [
    "#Create and fit the Classifier\n",
    "clf = RandomForestClassifier(max_depth=6, random_state=0)\n",
    "\n",
    "clf.fit(X, y)\n",
    "print(clf.score(X,y))"
   ]
  },
  {
   "cell_type": "markdown",
   "metadata": {},
   "source": [
    "### Display results"
   ]
  },
  {
   "cell_type": "code",
   "execution_count": 25,
   "metadata": {},
   "outputs": [
    {
     "name": "stdout",
     "output_type": "stream",
     "text": [
      "BallPossession 0.173606999674\n",
      "ShotsonGoal 0.517127983586\n",
      "ShotsoffGoal 0.0420442676644\n",
      "BlockedShots 0.0255582080614\n",
      "FreeKicks 0.0416153445094\n",
      "CornerKicks 0.0527849517106\n",
      "Offsides 0.0269291423134\n",
      "Throw-in 0.0474454775898\n",
      "GoalkeeperSaves 0.0311751746696\n",
      "Fouls 0.0417124502217\n"
     ]
    }
   ],
   "source": [
    "#List of Features\n",
    "features = ['BallPossession','ShotsonGoal','ShotsoffGoal','BlockedShots','FreeKicks','CornerKicks','Offsides','Throw-in','GoalkeeperSaves','Fouls']\n",
    "\n",
    "#List of Importances\n",
    "importances = clf.feature_importances_\n",
    "\n",
    "#Display pairs\n",
    "for f, i in zip(features, importances):\n",
    "    print(f, i)\n"
   ]
  },
  {
   "cell_type": "markdown",
   "metadata": {},
   "source": [
    "### Graph Explained Variance Ratios"
   ]
  },
  {
   "cell_type": "code",
   "execution_count": 26,
   "metadata": {},
   "outputs": [
    {
     "data": {
      "image/png": "[encoded data removed]",
      "text/plain": [
       "<matplotlib.figure.Figure at 0x1df0d6f4160>"
      ]
     },
     "metadata": {},
     "output_type": "display_data"
    }
   ],
   "source": [
    "#More than enough colors!\n",
    "COLORS = 'bgrcmykbgrcmykbgrcmyk'\n",
    "\n",
    "#For every label add a bar\n",
    "for i, label in enumerate(features):\n",
    "        plt.bar(i, importances[i], label = label, color = COLORS[i])\n",
    "\n",
    "#Graph bells and whistles\n",
    "plt.title(\"Feature Importances for Predicting Goals Scored\")\n",
    "plt.xlabel('Features')\n",
    "plt.ylabel('Importance Ratio')\n",
    "plt.ylim((0, .7))\n",
    "plt.legend(bbox_to_anchor=(1.4, 1.05))\n",
    "\n",
    "#Display!\n",
    "plt.show()"
   ]
  },
  {
   "cell_type": "code",
   "execution_count": 27,
   "metadata": {},
   "outputs": [
    {
     "name": "stdout",
     "output_type": "stream",
     "text": [
      "These features have an importance of the average or more for 16 features:\n",
      "\n",
      "BallPossession = 17.3606999674\n",
      "ShotsonGoal = 51.7127983586\n"
     ]
    }
   ],
   "source": [
    "#Which features have an importance of more than 1%?\n",
    "print(\"These features have an importance of the average or more for 16 features:\\n\")\n",
    "for f, i in zip(features, importances):\n",
    "    if(i*100 >= (100/10)):\n",
    "        print(f,\"=\", i*100)"
   ]
  },
  {
   "cell_type": "code",
   "execution_count": null,
   "metadata": {
    "collapsed": true
   },
   "outputs": [],
   "source": []
  }
 ],
 "metadata": {
  "kernelspec": {
   "display_name": "Python 3",
   "language": "python",
   "name": "python3"
  },
  "language_info": {
   "codemirror_mode": {
    "name": "ipython",
    "version": 3
   },
   "file_extension": ".py",
   "mimetype": "text/x-python",
   "name": "python",
   "nbconvert_exporter": "python",
   "pygments_lexer": "ipython3",
   "version": "3.6.1"
  }
 },
 "nbformat": 4,
 "nbformat_minor": 2
}
