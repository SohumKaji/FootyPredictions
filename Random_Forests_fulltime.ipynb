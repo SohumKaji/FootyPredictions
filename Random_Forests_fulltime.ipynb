{
 "cells": [
  {
   "cell_type": "markdown",
   "metadata": {},
   "source": [
    "# Create a Random Forest to determine the Feature Importance"
   ]
  },
  {
   "cell_type": "markdown",
   "metadata": {},
   "source": [
    "### Import Statements and Read in Data"
   ]
  },
  {
   "cell_type": "code",
   "execution_count": 1,
   "metadata": {
    "collapsed": true
   },
   "outputs": [],
   "source": [
    "import pickle\n",
    "import numpy as np\n",
    "import pandas as pd\n",
    "import matplotlib.pyplot as plt\n",
    "\n",
    "from sklearn.ensemble import RandomForestClassifier\n",
    "from sklearn.preprocessing import scale\n",
    "\n",
    "with open('fixed_match_dates_and_scores.pkl', 'rb') as f:\n",
    "    results, match_dates = pickle.load(f)\n",
    "    \n",
    "#Full match Data\n",
    "home_df = pd.read_csv('sgd_home.csv', index_col=0)\n",
    "away_df = pd.read_csv('sgd_away.csv', index_col=0)"
   ]
  },
  {
   "cell_type": "markdown",
   "metadata": {},
   "source": [
    "### Read in and Format Data"
   ]
  },
  {
   "cell_type": "code",
   "execution_count": 2,
   "metadata": {},
   "outputs": [
    {
     "name": "stdout",
     "output_type": "stream",
     "text": [
      "10261\n",
      "[  63.   13.    8.    1.    5.    5.    2.   37.   20.    1.    2.   17.\n",
      "    6.   41.  495.   79.] 0.0\n",
      "[  37.   23.    8.    2.    4.    2.    4.   37.   17.    1.    2.   21.\n",
      "    9.   32.  284.   70.] 1.0\n"
     ]
    }
   ],
   "source": [
    "X = []\n",
    "y = []\n",
    "\n",
    "#For each date where a game was played\n",
    "for date in match_dates:\n",
    "\n",
    "    #For each match played that day\n",
    "    for result in results[date]:\n",
    "        \n",
    "        #Try to get the specific team from the specific match's data\n",
    "        try:\n",
    "            data = home_df.loc[result[0]+'_'+str(date), :]\n",
    "            #If the data is not complete, ignore it\n",
    "            if(len(data) == 16):\n",
    "                X.append(data)\n",
    "                y.append(float(result[3][0]))\n",
    "            #The above was home data, below is away data\n",
    "            data = away_df.loc[result[1]+'_'+str(date), :]\n",
    "            if(len(data) == 16):\n",
    "                X.append(data)\n",
    "                y.append(float(result[3][1]))\n",
    "        except:\n",
    "            pass\n",
    "        \n",
    "#Sanity Check        \n",
    "print(len(X))\n",
    "\n",
    "#Convert to numpy array and remove missing elements\n",
    "X = np.asarray(X, dtype='float64')\n",
    "y = np.asarray(y, dtype='float64')\n",
    "X = np.nan_to_num(X)\n",
    "print(X[0], y[0])\n",
    "print(X[1], y[1])"
   ]
  },
  {
   "cell_type": "markdown",
   "metadata": {},
   "source": [
    "### Perform Random Forests"
   ]
  },
  {
   "cell_type": "code",
   "execution_count": 3,
   "metadata": {},
   "outputs": [
    {
     "name": "stdout",
     "output_type": "stream",
     "text": [
      "0.527628886073\n"
     ]
    }
   ],
   "source": [
    "#Create and fit the Classifier\n",
    "clf = RandomForestClassifier(max_depth=9, random_state=0)\n",
    "\n",
    "clf.fit(X, y)\n",
    "print(clf.score(X,y))"
   ]
  },
  {
   "cell_type": "markdown",
   "metadata": {},
   "source": [
    "### Display results"
   ]
  },
  {
   "cell_type": "code",
   "execution_count": 4,
   "metadata": {},
   "outputs": [
    {
     "name": "stdout",
     "output_type": "stream",
     "text": [
      "possession 0.0491493921639\n",
      "fouls 0.0555780781363\n",
      "shots 0.0633854299975\n",
      "shotsongoal 0.181390065961\n",
      "offtarget 0.0507142134979\n",
      "cornerkicks 0.0642943789164\n",
      "yellowcards 0.0453338654231\n",
      "headtheball 0.0500843159605\n",
      "headsuccess 0.04270083884\n",
      "saves 0.0463715641403\n",
      "blocked 0.0510796828099\n",
      "tackles 0.0525111370379\n",
      "dribbles 0.0526089219691\n",
      "throwins 0.0548438738306\n",
      "pass 0.0587499291017\n",
      "passsuccess 0.0812043122138\n"
     ]
    }
   ],
   "source": [
    "#List of Features\n",
    "features = ['possession', 'fouls', 'shots', 'shotsongoal','offtarget','cornerkicks','yellowcards','headtheball','headsuccess','saves','blocked','tackles','dribbles','throwins','pass','passsuccess']\n",
    "\n",
    "#List of Importances\n",
    "importances = clf.feature_importances_\n",
    "\n",
    "#Display pairs\n",
    "for f, i in zip(features, importances):\n",
    "    print(f, i)\n"
   ]
  },
  {
   "cell_type": "markdown",
   "metadata": {},
   "source": [
    "### Graph Explained Variance Ratios"
   ]
  },
  {
   "cell_type": "code",
   "execution_count": 5,
   "metadata": {},
   "outputs": [
    {
     "data": {
      "image/png": "[encoded data removed]",
      "text/plain": [
       "<matplotlib.figure.Figure at 0x2acc32af358>"
      ]
     },
     "metadata": {},
     "output_type": "display_data"
    }
   ],
   "source": [
    "#More than enough colors!\n",
    "COLORS = 'bgrcmykbgrcmykbgrcmyk'\n",
    "\n",
    "#For every label add a bar\n",
    "for i, label in enumerate(features):\n",
    "        plt.bar(i, importances[i], label = label, color = COLORS[i])\n",
    "\n",
    "#Graph bells and whistles\n",
    "plt.title(\"Feature Importances for Predicting Goals Scored\")\n",
    "plt.xlabel('Features')\n",
    "plt.ylabel('Importance Ratio')\n",
    "plt.ylim((0, .3))\n",
    "plt.legend(bbox_to_anchor=(1.0, 1.05))\n",
    "\n",
    "#Display!\n",
    "plt.show()"
   ]
  },
  {
   "cell_type": "code",
   "execution_count": 6,
   "metadata": {},
   "outputs": [
    {
     "name": "stdout",
     "output_type": "stream",
     "text": [
      "These features have an importance of the average or more for 16 features:\n",
      "\n",
      "shots = 6.33854299975\n",
      "shotsongoal = 18.1390065961\n",
      "cornerkicks = 6.42943789164\n",
      "passsuccess = 8.12043122138\n"
     ]
    }
   ],
   "source": [
    "#Which features have an importance of more than 1%?\n",
    "print(\"These features have an importance of the average or more for 16 features:\\n\")\n",
    "for f, i in zip(features, importances):\n",
    "    if(i*100 >= (100/16)):\n",
    "        print(f,\"=\", i*100)"
   ]
  },
  {
   "cell_type": "code",
   "execution_count": null,
   "metadata": {
    "collapsed": true
   },
   "outputs": [],
   "source": []
  }
 ],
 "metadata": {
  "kernelspec": {
   "display_name": "Python 3",
   "language": "python",
   "name": "python3"
  },
  "language_info": {
   "codemirror_mode": {
    "name": "ipython",
    "version": 3
   },
   "file_extension": ".py",
   "mimetype": "text/x-python",
   "name": "python",
   "nbconvert_exporter": "python",
   "pygments_lexer": "ipython3",
   "version": "3.6.1"
  }
 },
 "nbformat": 4,
 "nbformat_minor": 2
}
